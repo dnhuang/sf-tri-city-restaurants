{
 "cells": [
  {
   "attachments": {},
   "cell_type": "markdown",
   "metadata": {},
   "source": [
    "# EDA & Hypothesis Testing on Data from Yelp on the Bay Area Tri-Cities"
   ]
  },
  {
   "attachments": {},
   "cell_type": "markdown",
   "metadata": {},
   "source": [
    "## Imports"
   ]
  },
  {
   "cell_type": "code",
   "execution_count": 1,
   "metadata": {},
   "outputs": [],
   "source": [
    "# necessary imports\n",
    "import numpy as np\n",
    "import pandas as pd\n",
    "from matplotlib import pyplot as plt"
   ]
  },
  {
   "attachments": {},
   "cell_type": "markdown",
   "metadata": {},
   "source": [
    "## Inspection & Preliminary Cleaning"
   ]
  },
  {
   "attachments": {},
   "cell_type": "markdown",
   "metadata": {},
   "source": [
    "I start by first reading the scraped data into a pandas DataFrame:"
   ]
  },
  {
   "cell_type": "code",
   "execution_count": 2,
   "metadata": {},
   "outputs": [
    {
     "data": {
      "text/plain": [
       "365"
      ]
     },
     "execution_count": 2,
     "metadata": {},
     "output_type": "execute_result"
    }
   ],
   "source": [
    "tri_city_df = pd.read_csv('tri_city_data.csv')\n",
    "tri_city_df = tri_city_df.drop_duplicates() # There are duplicates in the data that need to be dropped\n",
    "len(tri_city_df)"
   ]
  },
  {
   "attachments": {},
   "cell_type": "markdown",
   "metadata": {},
   "source": [
    "As expected from the way I scraped the Yelp data and wrote into `tri_city_data.csv`, the `tri_city_df` schema is:\n",
    "* Each tuple is a unique business containing the features:\n",
    "    * `business_id`: the primary key of the business\n",
    "    * `name`: name of the business\n",
    "    * `city`: the city the business is located in\n",
    "    * `review_count`: total number of reviews the business recived as of 4/13/2023\n",
    "    * `rating`: the cumulative rating calculated from the reviews the business received as of 4/13/2023\n",
    "\n",
    "Before moving on to proper EDA, I realized I needed to some some preliminary cleaning.\n",
    "\n",
    "In the `name` column, it appears that the apostrophe character in the data **’** is somehow *different* from the apostrophe character on my keyboard **'**. The former seems to be curved whereas the latter is straight. A quick Google search led me to this [Stack Overflow post](https://stackoverflow.com/questions/6711892/right-single-apostrophe-vs-apostrophe). To deal with this, I will use regex to replace the slanted apostrophe with the straight apostrophe."
   ]
  },
  {
   "cell_type": "code",
   "execution_count": 3,
   "metadata": {},
   "outputs": [
    {
     "name": "stdout",
     "output_type": "stream",
     "text": [
      "True\n"
     ]
    }
   ],
   "source": [
    "# Replace slanted apostrophe ’ with straight apostrophe '\n",
    "tri_city_df['name'] = tri_city_df['name'].str.replace(\"’\", \"'\")\n",
    "\n",
    "# Check if properly replaced\n",
    "print(\"McDonald's\" in tri_city_df['name'].values)"
   ]
  },
  {
   "attachments": {},
   "cell_type": "markdown",
   "metadata": {},
   "source": [
    "The check returned `True`, meaning the replacement was successful. \n",
    "\n",
    "Next, I need to categorize each business as whether or not it is a commonly franchised fast food restaurant. I create a new feature called `is_ff_chain`, which will take on value $1$ if it is a commonly franchised fast food restaurant as defined by the list mentioned in the README, otherwise $0$.\n",
    "\n",
    "The list is reproduced here:\n",
    "`[\"Burger King\", \"Carl's Jr\", \"Chick-fil-A\",  \"Chipotle Mexican Grill\", \"McDonald's\",\n",
    "                 \"Firehouse Subs\", \"Five Guys\", \"Jack in the Box\", \"KFC\", \"Panda Express\",\n",
    "                 \"Papa Johns Pizza\", \"Popeyes Louisiana Kitchen\", \"Subway\", \"Taco Bell\",\n",
    "                 \"Wendy's\", \"Wienerschnitzel\", \"Wingstop\"]`"
   ]
  },
  {
   "cell_type": "code",
   "execution_count": 4,
   "metadata": {},
   "outputs": [],
   "source": [
    "# Defined list\n",
    "ff_chain_list = [\"Burger King\", \"Carl's Jr\", \"Chick-fil-A\",  \"Chipotle Mexican Grill\", \"McDonald's\",\n",
    "                 \"Firehouse Subs\", \"Five Guys\", \"Jack in the Box\", \"KFC\", \"Panda Express\",\n",
    "                 \"Papa Johns Pizza\", \"Popeyes Louisiana Kitchen\", \"Subway\", \"Taco Bell\",\n",
    "                 \"Wendy's\", \"Wienerschnitzel\", \"Wingstop\"]\n",
    "\n",
    "# Create new feature `is_ff_chain`\n",
    "tri_city_df['is_ff_chain'] = tri_city_df['name'].isin(ff_chain_list)"
   ]
  },
  {
   "attachments": {},
   "cell_type": "markdown",
   "metadata": {},
   "source": [
    "## Exploration"
   ]
  },
  {
   "attachments": {},
   "cell_type": "markdown",
   "metadata": {},
   "source": [
    "### Proportion and Distribution"
   ]
  },
  {
   "attachments": {},
   "cell_type": "markdown",
   "metadata": {},
   "source": [
    "Starting with something simple, I was curious about the proportion of commonly franchised fast food restaurants (fast food chains) to restaurants in the Tri-City area."
   ]
  },
  {
   "cell_type": "code",
   "execution_count": 5,
   "metadata": {},
   "outputs": [
    {
     "name": "stdout",
     "output_type": "stream",
     "text": [
      "Num ff_chains:                          63\n",
      "Num restaurants:                        365\n",
      "Proportion of ff_chains to restaurants: 0.1726\n"
     ]
    }
   ],
   "source": [
    "# Display number of commonly franchised fast food restaurants (ff_chains) are in the tri-city area\n",
    "print(\"Num ff_chains: {:27}\".format(len(tri_city_df[tri_city_df['is_ff_chain']])))\n",
    "\n",
    "# Display number of total restaurants in tri-city area\n",
    "print(\"Num restaurants: {:26}\".format(len(tri_city_df)))\n",
    "\n",
    "# Display proportion of ff_chains in tri-city area\n",
    "print(\"Proportion of ff_chains to restaurants: {0:.4f}\".format(len(tri_city_df[tri_city_df['is_ff_chain']])/len(tri_city_df) ))"
   ]
  },
  {
   "attachments": {},
   "cell_type": "markdown",
   "metadata": {},
   "source": [
    "Roughly $17\\%$ of all restaurants in the Tri-City area are fast food chains. Not sure how significant this number is, but this seems to be quite a lot. Might be a cool topic to look into in a future project.\n",
    "\n",
    "Next, I wanted to see the distribution of ratings for ff_chains and non-fast-food restaurants."
   ]
  },
  {
   "cell_type": "code",
   "execution_count": 6,
   "metadata": {},
   "outputs": [
    {
     "data": {
      "image/png": "[encoded data removed]",
      "text/plain": [
       "<Figure size 640x480 with 1 Axes>"
      ]
     },
     "metadata": {},
     "output_type": "display_data"
    }
   ],
   "source": [
    "# Get series of ff_chain ratings\n",
    "ff_chain_rating_series = tri_city_df[tri_city_df['is_ff_chain']]['rating']\n",
    "\n",
    "# Get series of non ff_chain ratings\n",
    "non_ff_chain_rating_series = tri_city_df[~tri_city_df['is_ff_chain']]['rating']\n",
    "\n",
    "# Plot the two histograms overlaid\n",
    "plt.hist(ff_chain_rating_series, alpha=1, label='ff_chain', density=True)\n",
    "plt.hist(non_ff_chain_rating_series, alpha=0.8, label='non_ff_chain', density=True)\n",
    "plt.legend()\n",
    "plt.title(\"Density Distribution of Restaurant Ratings in Bay Tri-City Area\")\n",
    "plt.xlabel('Rating')\n",
    "plt.ylabel('Restaurant Density')\n",
    "plt.show()"
   ]
  },
  {
   "attachments": {},
   "cell_type": "markdown",
   "metadata": {},
   "source": [
    "Observations:\n",
    "* `ff_chain` distribution:\n",
    "    * Centered around $2.5$.\n",
    "    * Three peaks, one at $1.5, second at $2$, and third and $2.5$.\n",
    "    * Exhibits a right skew, meaning mean $>$ median.\n",
    "* `non_ff_chain` distribution:\n",
    "    * Centered around $4$.\n",
    "    * Unimodal, one peak at around $4$.\n",
    "    * Exhibits a left skew, meaning mean $<$ median.\n",
    "\n",
    "In comparing the two distribution densities, I think it is quite clear that the rating distribution for fast food chains is based to the left of that of normal restaurants. In other words, the ratings of fast food chains are on average lower than the ratings of normal restaurants.\n",
    "\n",
    "These observations now raise my main question:\n",
    "\n",
    "**Is the difference in ratings simply a result of chance variation or is there a *real* difference between the two distributions?**"
   ]
  },
  {
   "attachments": {},
   "cell_type": "markdown",
   "metadata": {},
   "source": [
    "### Restaurants with a Rating of 0\n",
    "\n",
    "But before I attempt to answer that question, I would like to investigate the data a little bit further. Something that caught my eye was that there is a sizeable density located in the $[0, 0.5)$ rating bin. I want to know what restaurants they are."
   ]
  },
  {
   "cell_type": "code",
   "execution_count": 7,
   "metadata": {},
   "outputs": [
    {
     "data": {
      "text/html": [
       "<div>\n",
       "<style scoped>\n",
       "    .dataframe tbody tr th:only-of-type {\n",
       "        vertical-align: middle;\n",
       "    }\n",
       "\n",
       "    .dataframe tbody tr th {\n",
       "        vertical-align: top;\n",
       "    }\n",
       "\n",
       "    .dataframe thead th {\n",
       "        text-align: right;\n",
       "    }\n",
       "</style>\n",
       "<table border=\"1\" class=\"dataframe\">\n",
       "  <thead>\n",
       "    <tr style=\"text-align: right;\">\n",
       "      <th></th>\n",
       "      <th>business_id</th>\n",
       "      <th>name</th>\n",
       "      <th>city</th>\n",
       "      <th>review_count</th>\n",
       "      <th>rating</th>\n",
       "      <th>is_ff_chain</th>\n",
       "    </tr>\n",
       "  </thead>\n",
       "  <tbody>\n",
       "    <tr>\n",
       "      <th>20</th>\n",
       "      <td>MkiwFVtXog0EWdQHm37S_g</td>\n",
       "      <td>flaming house</td>\n",
       "      <td>newark</td>\n",
       "      <td>0</td>\n",
       "      <td>0.0</td>\n",
       "      <td>False</td>\n",
       "    </tr>\n",
       "    <tr>\n",
       "      <th>100</th>\n",
       "      <td>StOsDpqb8xoDFPr4vKQcmA</td>\n",
       "      <td>Super Mega Dilla</td>\n",
       "      <td>newark</td>\n",
       "      <td>0</td>\n",
       "      <td>0.0</td>\n",
       "      <td>False</td>\n",
       "    </tr>\n",
       "    <tr>\n",
       "      <th>152</th>\n",
       "      <td>L_0CHuwKDqkY4ZYI6yAEtg</td>\n",
       "      <td>Old Street Chengpan Malatang</td>\n",
       "      <td>fremont</td>\n",
       "      <td>0</td>\n",
       "      <td>0.0</td>\n",
       "      <td>False</td>\n",
       "    </tr>\n",
       "    <tr>\n",
       "      <th>175</th>\n",
       "      <td>uyJIoXr3uMyHr4b8OKaoWw</td>\n",
       "      <td>My Indian Pizza</td>\n",
       "      <td>fremont</td>\n",
       "      <td>0</td>\n",
       "      <td>0.0</td>\n",
       "      <td>False</td>\n",
       "    </tr>\n",
       "    <tr>\n",
       "      <th>289</th>\n",
       "      <td>fHEqmzVrXSo956OLCB7r-w</td>\n",
       "      <td>Auntie Anne's</td>\n",
       "      <td>fremont</td>\n",
       "      <td>0</td>\n",
       "      <td>0.0</td>\n",
       "      <td>False</td>\n",
       "    </tr>\n",
       "    <tr>\n",
       "      <th>393</th>\n",
       "      <td>JRofmKaZVYnwMEuWlwOOlA</td>\n",
       "      <td>Grill City</td>\n",
       "      <td>union city</td>\n",
       "      <td>0</td>\n",
       "      <td>0.0</td>\n",
       "      <td>False</td>\n",
       "    </tr>\n",
       "  </tbody>\n",
       "</table>\n",
       "</div>"
      ],
      "text/plain": [
       "                business_id                          name        city   \n",
       "20   MkiwFVtXog0EWdQHm37S_g                 flaming house      newark  \\\n",
       "100  StOsDpqb8xoDFPr4vKQcmA              Super Mega Dilla      newark   \n",
       "152  L_0CHuwKDqkY4ZYI6yAEtg  Old Street Chengpan Malatang     fremont   \n",
       "175  uyJIoXr3uMyHr4b8OKaoWw               My Indian Pizza     fremont   \n",
       "289  fHEqmzVrXSo956OLCB7r-w                 Auntie Anne's     fremont   \n",
       "393  JRofmKaZVYnwMEuWlwOOlA                    Grill City  union city   \n",
       "\n",
       "     review_count  rating  is_ff_chain  \n",
       "20              0     0.0        False  \n",
       "100             0     0.0        False  \n",
       "152             0     0.0        False  \n",
       "175             0     0.0        False  \n",
       "289             0     0.0        False  \n",
       "393             0     0.0        False  "
      ]
     },
     "execution_count": 7,
     "metadata": {},
     "output_type": "execute_result"
    }
   ],
   "source": [
    "tri_city_df[tri_city_df['rating']==0]"
   ]
  },
  {
   "attachments": {},
   "cell_type": "markdown",
   "metadata": {},
   "source": [
    "From these results, I think it is safe to assert that these restaurants received a rating of $0$ simply because they've never received a user review before. But how is it the case that there `review_count` is $0$? I decided to take a look at the yelp pages of each of these restaurants."
   ]
  },
  {
   "attachments": {},
   "cell_type": "markdown",
   "metadata": {},
   "source": [
    "**[flaming house](https://www.yelp.com/biz/flaming-house-newark-6#location-and-hours)**\n",
    "\n",
    "<div>\n",
    "<img src=img/flaming_house.png width=1000>\n",
    "</div>\n",
    "\n",
    "From a brief glance at the restaurant page, I believe this restaurant may have opened up recently. As shown by the picture, their opening hours were updated $1$ month ago, and from looking at the eight pictures that have been posted so far, **six** of them were posted by the business themselves and two were potentially taken by customers. I say potentially because one of the two pictures is the exact same picture posted by the business; I believe there are only two explanations for this: 1) The user is the business owner and forgot to change accounts to post on their business account or 2) the business decided to repost the user's picture.\n",
    "\n",
    "Regardless, despite having two Yelp users posting pictures, none of them left a review. And considering this business only opened up recently, I don't think I can make a justifiable assessment on the quality of this restaurant."
   ]
  },
  {
   "attachments": {},
   "cell_type": "markdown",
   "metadata": {},
   "source": [
    "**[Super Mega Dilla](https://www.yelp.com/biz/super-mega-dilla-newark?osq=super+mega+dilla)**\n",
    "\n",
    "\n",
    "<div>\n",
    "<img src=img/super_mega_dilla.png width=1000>\n",
    "</div>\n",
    "\n",
    "An unclaimed restaurant, but more notably it has a \"Fast Food\" tag (explains how my scraper caught it) and a \"Food Dellivery Services\" tag. The latter disqualifies it from participating in this project."
   ]
  },
  {
   "attachments": {},
   "cell_type": "markdown",
   "metadata": {},
   "source": [
    "**[Old Street Chengpan Malatang](https://www.yelp.com/biz/old-street-chengpan-malatang-fremont)**\n",
    "\n",
    "<div>\n",
    "<img src=img/old_street_chengpan_malatang.png width=1000>\n",
    "</div>\n",
    "\n",
    "I have walked by this restaurant before, so I know why there are no reviews: it is not open yet. A quick look through its posted pictures also confirms this:\n",
    "\n",
    "<div>\n",
    "<img src=img/old_street_chengpan_malatang_opening_soon.png width=500>>\n",
    "</div>"
   ]
  },
  {
   "attachments": {},
   "cell_type": "markdown",
   "metadata": {},
   "source": [
    "**[My Indian Pizza](https://www.yelp.com/biz/my-indian-pizza-fremont?osq=my+indian+pizza)**\n",
    "\n",
    "!['my_indian_pizza_img'](img/my_indian_pizza.png)\n",
    "\n",
    "This next restaurant is the most interesting one. It's a claimed restaurant, but there are no photos posted, neither by the business owner nor users. No business hours are listed either. So I dug deeper by searching up their address on Google Maps and using the [street view functionality](https://www.google.com/maps/@37.5335553,-121.9979814,3a,38y,319.87h,85.74t/data=!3m7!1e1!3m5!1sFPEXYB5BqN3sZ6owAXM9RA!2e0!6shttps:%2F%2Fstreetviewpixels-pa.googleapis.com%2Fv1%2Fthumbnail%3Fpanoid%3DFPEXYB5BqN3sZ6owAXM9RA%26cb_client%3Dmaps_sv.tactile.gps%26w%3D203%26h%3D100%26yaw%3D192.10873%26pitch%3D0%26thumbfov%3D100!7i16384!8i8192) to see if the restaurant is actually there. To my surprise, I observe the following:\n",
    "\n",
    "<div>\n",
    "<img src=img/5176_mowry_ave.png width=\"750\">\n",
    "</div>"
   ]
  },
  {
   "attachments": {},
   "cell_type": "markdown",
   "metadata": {},
   "source": [
    "A different restaurant called Papa Murphy's Pizza? Searching up this restaurant yielded the following results:\n",
    "\n",
    "<div>\n",
    "<img src=img/papa_murphys.png width=750>\n",
    "<img src=img/papa_murphys_hours.png width=500>\n",
    "</div>\n",
    "\n",
    "The addresses for these two \"restaurants\" match, so that shouldn't be a mistake. However, it shows on Papa Murphy's page that \"Yelpers report this location has closed.\" At the same time, the street view was last updated on December 2020. So is the restaurant My Indian Pizza actually there? I guess I would never know unless I decide to drive over and check it out (or I could just call them, a phone number is listed...). Until then, I guess I'll never know."
   ]
  },
  {
   "attachments": {},
   "cell_type": "markdown",
   "metadata": {},
   "source": [
    "**Auntie Anne's**\n",
    "\n",
    "![auntie_annes_img](img/auntie_annes.png)\n",
    "\n",
    "The scraped data doesn't exist in the search page? Cross referencing the search results with the map provided by yelp, it appears that there isn't supposed to be an Auntie Anne's in the city of Fremont (the first search result is located in a mall in Newark). So I'm not entirely sure how my scraper acquired this data."
   ]
  },
  {
   "attachments": {},
   "cell_type": "markdown",
   "metadata": {},
   "source": [
    "[Grill City](https://www.yelp.com/biz/grill-city-union-city-2?osq=Grill+City)\n",
    "\n",
    "<div>\n",
    "<img src=img/grill_city.png width=1000>\n",
    "</div>\n",
    "\n",
    "Claimed business with hours listed, but no reviews. All the photos posted are done by the business themselves. I noticed that this seemed to be a franchised restaurant and they had their own website. Perusing thereof led to the following [discovery](https://www.grillcity.com/northern-california/):\n",
    "\n",
    "<div>\n",
    "<img src=img/grill_city_norcal_locations.png width=750>\n",
    "</div>\n",
    "\n",
    "I believe it is safe to assume that the Union City location of Grill City is no longer in business, if it had ever been in business before."
   ]
  },
  {
   "attachments": {},
   "cell_type": "markdown",
   "metadata": {},
   "source": [
    "All in all, from looking at all these individual restaurants, I believe they can all be considered as outliers and removed from the final data set. There are only five elements, so it shouldn't affect the data that much, but I remove them regardless:"
   ]
  },
  {
   "cell_type": "code",
   "execution_count": 8,
   "metadata": {},
   "outputs": [
    {
     "name": "stdout",
     "output_type": "stream",
     "text": [
      "359\n"
     ]
    }
   ],
   "source": [
    "# Remove the restaurants with a rating of 0\n",
    "tri_city_df = tri_city_df[tri_city_df['rating']!=0]\n",
    "print(len(tri_city_df)) # should print 359 (365 - 6 = 359)"
   ]
  },
  {
   "attachments": {},
   "cell_type": "markdown",
   "metadata": {},
   "source": [
    "## Hypothesis Testing - A/B Test"
   ]
  },
  {
   "attachments": {},
   "cell_type": "markdown",
   "metadata": {},
   "source": [
    "Finally, moving on to answering the question posed in exploration. To reiterate, I wish to answer the following:\n",
    "\n",
    "**Is the difference in ratings simply a result of chance variation or is there a *real* difference between the two distributions?**\n",
    "\n",
    "To answer that, I will perform an A/B test with the following hypotheses:\n",
    "\n",
    "**Null Hypothesis:** In the Bay Area Tri-City area, the distribution of ratings is the same for regular restaurants and commonly franchised fast food restaurants. The difference in the sample is due to chance.\n",
    "\n",
    "**Alternative Hypothesis:** In the Bay Area Tri-City area, the commonly franchised fast food restaurants have a *lower* rating, on average, than regular restaurants.\n",
    "\n",
    "For my test statistic, I will be using the difference between the two group's rating averages, specifically the average rating of non-fast-food chain restaurants *minus* the average rating of fast food chains. This means that larger values will favor the alternative hypothesis. A naive $\\alpha=0.05$ will be used as the cutoff point.\n",
    "\n",
    "To start, I will compute the observed value of the test statistic."
   ]
  },
  {
   "cell_type": "code",
   "execution_count": 9,
   "metadata": {},
   "outputs": [
    {
     "name": "stdout",
     "output_type": "stream",
     "text": [
      "               rating\n",
      "is_ff_chain          \n",
      "False        3.918919\n",
      "True         2.253968\n",
      "\n",
      "Observed Difference: 1.6650\n"
     ]
    }
   ],
   "source": [
    "# Display the average rating of the two groups\n",
    "average_ratings = tri_city_df[['rating', 'is_ff_chain']].groupby('is_ff_chain').mean()\n",
    "print(average_ratings)\n",
    "\n",
    "# Compute the test statistic (0th value is regular restaurants, 1st is chain)\n",
    "obs_diff = average_ratings.values[0][0] - average_ratings.values[1][0]\n",
    "print('\\nObserved Difference: {:.4f}'.format(obs_diff))"
   ]
  },
  {
   "attachments": {},
   "cell_type": "markdown",
   "metadata": {},
   "source": [
    "The observed test statistic, or the difference in average ratings between the two groups, non-fast-food chain average rating minus fast food chain average rating, is around $1.67$.\n",
    "\n",
    "Next, I will implement a Python function that performs A/B testing: shuffling labels, simulating samples, and compute the test statistic."
   ]
  },
  {
   "cell_type": "code",
   "execution_count": 10,
   "metadata": {},
   "outputs": [],
   "source": [
    "# Function that performs the A/B test.\n",
    "# Takes in the DataFrame, the name of the column to be averaged, the label to group by,\n",
    "# the observed difference, and a naive alpha value (p-value cutoff).\n",
    "# Plots the distribution density of the average differences, concludes whether or not to reject\n",
    "# the null hypotheseis, and returns the empirical p-value.\n",
    "\n",
    "def ab_test(df, col, group, rep, obs_diff, alpha):\n",
    "\n",
    "    # Helper function for ONE simulation of the hypothesis test\n",
    "    def simulate_test(df, group):\n",
    "        # Shuffle labels, must sample with replacement\n",
    "        new_labels = df.sample(len(df), replace=True).reset_index()[group]\n",
    "        # Project desired columns and add shuffled labels\n",
    "        sample_df = df[[col]] # projection\n",
    "        sample_df['shuffled_label'] = new_labels\n",
    "        # Get averages of the two groups (0th value is regular restaurants, 1st is chain)\n",
    "        sample_df_series = sample_df.groupby('shuffled_label').mean()\n",
    "        sample_diff = sample_df_series[col][0] - sample_df[col][1]\n",
    "        return sample_diff\n",
    "    \n",
    "    # Use helper function to compute test statistic. Repeat for rep repetitions\n",
    "    test_statistic_list = np.array([])\n",
    "    for _ in np.arange(rep):\n",
    "        sim_test_statistic = simulate_test(df, group)\n",
    "        test_statistic_list = np.append(test_statistic_list, sim_test_statistic)\n",
    "    \n",
    "    empirical_p = np.count_nonzero(test_statistic_list >= obs_diff)/ rep\n",
    "\n",
    "    # Plot the distribution density of the average differences\n",
    "    plt.hist(test_statistic_list, density=True)\n",
    "    plt.grid()\n",
    "    plt.scatter(obs_diff, 0.2, color='red')\n",
    "    plt.title('Density Distribution of Average Differences Under the Null')\n",
    "    plt.xlabel('Average Difference')\n",
    "    plt.ylabel('Average Difference Density')\n",
    "\n",
    "    # Print conclusions\n",
    "    print('Simulation under the Null with {} repetitions'.format(rep))\n",
    "    print(\"With naive \\u03B1={} and empirical p-value={},\".format(alpha, empirical_p))\n",
    "    print(\"we {} the null hypothesis\".format(\"FAIL TO REJECT\" if empirical_p > alpha else \"REJECT\"))\n",
    "    return empirical_p\n",
    "        \n",
    "\n",
    "\n"
   ]
  },
  {
   "attachments": {},
   "cell_type": "markdown",
   "metadata": {},
   "source": [
    "With the `ab_test` function implemented, I now perform the A/B test:"
   ]
  },
  {
   "cell_type": "code",
   "execution_count": 11,
   "metadata": {},
   "outputs": [
    {
     "name": "stdout",
     "output_type": "stream",
     "text": [
      "Simulation under the Null with 5000 repetitions\n",
      "With naive α=0.05 and empirical p-value=0.0,\n",
      "we REJECT the null hypothesis\n"
     ]
    },
    {
     "data": {
      "image/png": "[encoded data removed]",
      "text/plain": [
       "<Figure size 640x480 with 1 Axes>"
      ]
     },
     "metadata": {},
     "output_type": "display_data"
    }
   ],
   "source": [
    "# Suppress SwettingwithCopyWarning\n",
    "pd.set_option('mode.chained_assignment', None)\n",
    "\n",
    "# Perform the A/B test\n",
    "empirical_p = ab_test(tri_city_df, 'rating', 'is_ff_chain', 5000, obs_diff, 0.05)"
   ]
  },
  {
   "attachments": {},
   "cell_type": "markdown",
   "metadata": {},
   "source": [
    "Reiterating again the parameters of my A/B test. With a naive $\\alpha=0.05$, our p-value cutoff, and by simulating under the null hypothesis, I obtained a p-value of $0.0$, and computation is reinforced by the histogram. The histogram is centered around $0.1$, mostly unimodal, and with very little spread, and we can see that our observed value (the red dot) is way far off to the right of the plot.\n",
    "\n",
    "Finally, since our empirical p-value of $0.0$ is ***less** than our $\\alpha=0.05$, we reject our null hypothesis and lean towards the alternative, meaning our test supports the hypothesis that in the Bay Tri-City area, commonly franchised fast food restaurants or fast food chains have lower ratings on average than regular restaurants."
   ]
  },
  {
   "attachments": {},
   "cell_type": "markdown",
   "metadata": {},
   "source": [
    "## Curating a Restaurant *Trial* List"
   ]
  },
  {
   "attachments": {},
   "cell_type": "markdown",
   "metadata": {},
   "source": [
    "As I mentioned in my README, one of the reasons for starting this project was to find ~~good~~ *edible* restaurants in the Bay Tri-City area. My hypothesis test does not fully accomplish that; it just confirms that fast food restaurants in general suck more on average than normal restaurants.\n",
    "\n",
    "Thus, I want to at least curate a list of highly reviewed restaurants for us to ***try***. To do that, I return to `tri_city_df`."
   ]
  },
  {
   "cell_type": "code",
   "execution_count": 12,
   "metadata": {},
   "outputs": [
    {
     "data": {
      "text/html": [
       "<div>\n",
       "<style scoped>\n",
       "    .dataframe tbody tr th:only-of-type {\n",
       "        vertical-align: middle;\n",
       "    }\n",
       "\n",
       "    .dataframe tbody tr th {\n",
       "        vertical-align: top;\n",
       "    }\n",
       "\n",
       "    .dataframe thead th {\n",
       "        text-align: right;\n",
       "    }\n",
       "</style>\n",
       "<table border=\"1\" class=\"dataframe\">\n",
       "  <thead>\n",
       "    <tr style=\"text-align: right;\">\n",
       "      <th></th>\n",
       "      <th>business_id</th>\n",
       "      <th>name</th>\n",
       "      <th>city</th>\n",
       "      <th>review_count</th>\n",
       "      <th>rating</th>\n",
       "      <th>is_ff_chain</th>\n",
       "    </tr>\n",
       "  </thead>\n",
       "  <tbody>\n",
       "    <tr>\n",
       "      <th>0</th>\n",
       "      <td>CcbFduunKlsrnW71-PH0ZA</td>\n",
       "      <td>Pocha K</td>\n",
       "      <td>newark</td>\n",
       "      <td>55</td>\n",
       "      <td>4.5</td>\n",
       "      <td>False</td>\n",
       "    </tr>\n",
       "    <tr>\n",
       "      <th>1</th>\n",
       "      <td>purj1aiUzDi0I__qLOaNRg</td>\n",
       "      <td>四姐 Pan Fried Dumplings</td>\n",
       "      <td>newark</td>\n",
       "      <td>613</td>\n",
       "      <td>4.5</td>\n",
       "      <td>False</td>\n",
       "    </tr>\n",
       "    <tr>\n",
       "      <th>2</th>\n",
       "      <td>1y4juqtkSJ9DPPZyRMi-xA</td>\n",
       "      <td>Mingkee Deli</td>\n",
       "      <td>newark</td>\n",
       "      <td>17</td>\n",
       "      <td>3.5</td>\n",
       "      <td>False</td>\n",
       "    </tr>\n",
       "    <tr>\n",
       "      <th>3</th>\n",
       "      <td>9Shb0yRis5NEQ5xIGG0FcA</td>\n",
       "      <td>Duobao BBQ &amp; Dumplings</td>\n",
       "      <td>newark</td>\n",
       "      <td>43</td>\n",
       "      <td>4.5</td>\n",
       "      <td>False</td>\n",
       "    </tr>\n",
       "    <tr>\n",
       "      <th>4</th>\n",
       "      <td>i_GuYJ_1hmW-lHeQ4GmOiw</td>\n",
       "      <td>Lazy Dog Restaurant &amp; Bar</td>\n",
       "      <td>newark</td>\n",
       "      <td>1617</td>\n",
       "      <td>4.0</td>\n",
       "      <td>False</td>\n",
       "    </tr>\n",
       "  </tbody>\n",
       "</table>\n",
       "</div>"
      ],
      "text/plain": [
       "              business_id                       name    city  review_count   \n",
       "0  CcbFduunKlsrnW71-PH0ZA                    Pocha K  newark            55  \\\n",
       "1  purj1aiUzDi0I__qLOaNRg     四姐 Pan Fried Dumplings  newark           613   \n",
       "2  1y4juqtkSJ9DPPZyRMi-xA               Mingkee Deli  newark            17   \n",
       "3  9Shb0yRis5NEQ5xIGG0FcA     Duobao BBQ & Dumplings  newark            43   \n",
       "4  i_GuYJ_1hmW-lHeQ4GmOiw  Lazy Dog Restaurant & Bar  newark          1617   \n",
       "\n",
       "   rating  is_ff_chain  \n",
       "0     4.5        False  \n",
       "1     4.5        False  \n",
       "2     3.5        False  \n",
       "3     4.5        False  \n",
       "4     4.0        False  "
      ]
     },
     "execution_count": 12,
     "metadata": {},
     "output_type": "execute_result"
    }
   ],
   "source": [
    "tri_city_df.head()"
   ]
  },
  {
   "attachments": {},
   "cell_type": "markdown",
   "metadata": {},
   "source": [
    "In general, my dad and I already have a mentally established list of fast food joints that are our defaults, and admittedly we go there quite often. Thus, I start by filtering out the fast food chains in `tri_city_df` to create our new `trial_df`."
   ]
  },
  {
   "cell_type": "code",
   "execution_count": 13,
   "metadata": {},
   "outputs": [
    {
     "data": {
      "text/html": [
       "<div>\n",
       "<style scoped>\n",
       "    .dataframe tbody tr th:only-of-type {\n",
       "        vertical-align: middle;\n",
       "    }\n",
       "\n",
       "    .dataframe tbody tr th {\n",
       "        vertical-align: top;\n",
       "    }\n",
       "\n",
       "    .dataframe thead th {\n",
       "        text-align: right;\n",
       "    }\n",
       "</style>\n",
       "<table border=\"1\" class=\"dataframe\">\n",
       "  <thead>\n",
       "    <tr style=\"text-align: right;\">\n",
       "      <th></th>\n",
       "      <th>business_id</th>\n",
       "      <th>name</th>\n",
       "      <th>city</th>\n",
       "      <th>review_count</th>\n",
       "      <th>rating</th>\n",
       "      <th>is_ff_chain</th>\n",
       "    </tr>\n",
       "  </thead>\n",
       "  <tbody>\n",
       "    <tr>\n",
       "      <th>0</th>\n",
       "      <td>CcbFduunKlsrnW71-PH0ZA</td>\n",
       "      <td>Pocha K</td>\n",
       "      <td>newark</td>\n",
       "      <td>55</td>\n",
       "      <td>4.5</td>\n",
       "      <td>False</td>\n",
       "    </tr>\n",
       "    <tr>\n",
       "      <th>1</th>\n",
       "      <td>purj1aiUzDi0I__qLOaNRg</td>\n",
       "      <td>四姐 Pan Fried Dumplings</td>\n",
       "      <td>newark</td>\n",
       "      <td>613</td>\n",
       "      <td>4.5</td>\n",
       "      <td>False</td>\n",
       "    </tr>\n",
       "    <tr>\n",
       "      <th>2</th>\n",
       "      <td>1y4juqtkSJ9DPPZyRMi-xA</td>\n",
       "      <td>Mingkee Deli</td>\n",
       "      <td>newark</td>\n",
       "      <td>17</td>\n",
       "      <td>3.5</td>\n",
       "      <td>False</td>\n",
       "    </tr>\n",
       "    <tr>\n",
       "      <th>3</th>\n",
       "      <td>9Shb0yRis5NEQ5xIGG0FcA</td>\n",
       "      <td>Duobao BBQ &amp; Dumplings</td>\n",
       "      <td>newark</td>\n",
       "      <td>43</td>\n",
       "      <td>4.5</td>\n",
       "      <td>False</td>\n",
       "    </tr>\n",
       "    <tr>\n",
       "      <th>4</th>\n",
       "      <td>i_GuYJ_1hmW-lHeQ4GmOiw</td>\n",
       "      <td>Lazy Dog Restaurant &amp; Bar</td>\n",
       "      <td>newark</td>\n",
       "      <td>1617</td>\n",
       "      <td>4.0</td>\n",
       "      <td>False</td>\n",
       "    </tr>\n",
       "  </tbody>\n",
       "</table>\n",
       "</div>"
      ],
      "text/plain": [
       "              business_id                       name    city  review_count   \n",
       "0  CcbFduunKlsrnW71-PH0ZA                    Pocha K  newark            55  \\\n",
       "1  purj1aiUzDi0I__qLOaNRg     四姐 Pan Fried Dumplings  newark           613   \n",
       "2  1y4juqtkSJ9DPPZyRMi-xA               Mingkee Deli  newark            17   \n",
       "3  9Shb0yRis5NEQ5xIGG0FcA     Duobao BBQ & Dumplings  newark            43   \n",
       "4  i_GuYJ_1hmW-lHeQ4GmOiw  Lazy Dog Restaurant & Bar  newark          1617   \n",
       "\n",
       "   rating  is_ff_chain  \n",
       "0     4.5        False  \n",
       "1     4.5        False  \n",
       "2     3.5        False  \n",
       "3     4.5        False  \n",
       "4     4.0        False  "
      ]
     },
     "execution_count": 13,
     "metadata": {},
     "output_type": "execute_result"
    }
   ],
   "source": [
    "# Get rid of fast food restaurants\n",
    "trial_df = tri_city_df[~tri_city_df['is_ff_chain']]\n",
    "trial_df.head()"
   ]
  },
  {
   "attachments": {},
   "cell_type": "markdown",
   "metadata": {},
   "source": [
    "Intuitively, I check the top $10$ restaurants sorted by rating:"
   ]
  },
  {
   "cell_type": "code",
   "execution_count": 14,
   "metadata": {},
   "outputs": [
    {
     "data": {
      "text/html": [
       "<div>\n",
       "<style scoped>\n",
       "    .dataframe tbody tr th:only-of-type {\n",
       "        vertical-align: middle;\n",
       "    }\n",
       "\n",
       "    .dataframe tbody tr th {\n",
       "        vertical-align: top;\n",
       "    }\n",
       "\n",
       "    .dataframe thead th {\n",
       "        text-align: right;\n",
       "    }\n",
       "</style>\n",
       "<table border=\"1\" class=\"dataframe\">\n",
       "  <thead>\n",
       "    <tr style=\"text-align: right;\">\n",
       "      <th></th>\n",
       "      <th>business_id</th>\n",
       "      <th>name</th>\n",
       "      <th>city</th>\n",
       "      <th>review_count</th>\n",
       "      <th>rating</th>\n",
       "      <th>is_ff_chain</th>\n",
       "    </tr>\n",
       "  </thead>\n",
       "  <tbody>\n",
       "    <tr>\n",
       "      <th>130</th>\n",
       "      <td>j_Tko7_HIrjx334lmI8Dtg</td>\n",
       "      <td>Afghan Awasana Kabob</td>\n",
       "      <td>fremont</td>\n",
       "      <td>294</td>\n",
       "      <td>5.0</td>\n",
       "      <td>False</td>\n",
       "    </tr>\n",
       "    <tr>\n",
       "      <th>66</th>\n",
       "      <td>LZwp2yd1Abs8PDF1Wf8Ybg</td>\n",
       "      <td>Dat Q BBQ</td>\n",
       "      <td>newark</td>\n",
       "      <td>17</td>\n",
       "      <td>5.0</td>\n",
       "      <td>False</td>\n",
       "    </tr>\n",
       "    <tr>\n",
       "      <th>5</th>\n",
       "      <td>FQnIs9ojngandeHW4UrasA</td>\n",
       "      <td>California Soul Food</td>\n",
       "      <td>newark</td>\n",
       "      <td>3</td>\n",
       "      <td>5.0</td>\n",
       "      <td>False</td>\n",
       "    </tr>\n",
       "    <tr>\n",
       "      <th>49</th>\n",
       "      <td>vu9iWvr8SUtpzQratYasXw</td>\n",
       "      <td>Emperor Dynasty Banquet</td>\n",
       "      <td>newark</td>\n",
       "      <td>7</td>\n",
       "      <td>5.0</td>\n",
       "      <td>False</td>\n",
       "    </tr>\n",
       "    <tr>\n",
       "      <th>216</th>\n",
       "      <td>Qgyf5wWw3SHCiohkr2Xlpw</td>\n",
       "      <td>Bundoo Khan</td>\n",
       "      <td>fremont</td>\n",
       "      <td>7</td>\n",
       "      <td>5.0</td>\n",
       "      <td>False</td>\n",
       "    </tr>\n",
       "    <tr>\n",
       "      <th>113</th>\n",
       "      <td>mog4wAikb1EnzwWSnKt-BQ</td>\n",
       "      <td>Tamper Room</td>\n",
       "      <td>fremont</td>\n",
       "      <td>38</td>\n",
       "      <td>5.0</td>\n",
       "      <td>False</td>\n",
       "    </tr>\n",
       "    <tr>\n",
       "      <th>118</th>\n",
       "      <td>W_HLI03d4OxtcY0pTYpnNA</td>\n",
       "      <td>Five Grains Noodle House</td>\n",
       "      <td>fremont</td>\n",
       "      <td>1</td>\n",
       "      <td>5.0</td>\n",
       "      <td>False</td>\n",
       "    </tr>\n",
       "    <tr>\n",
       "      <th>354</th>\n",
       "      <td>cGTNaphwexAJkuK628XgUw</td>\n",
       "      <td>Cock n' Curry - Indian Fried Chicken</td>\n",
       "      <td>union city</td>\n",
       "      <td>4</td>\n",
       "      <td>5.0</td>\n",
       "      <td>False</td>\n",
       "    </tr>\n",
       "    <tr>\n",
       "      <th>117</th>\n",
       "      <td>UhMdgcDu6zRADR43uhyfYg</td>\n",
       "      <td>Billy Roys Burger</td>\n",
       "      <td>fremont</td>\n",
       "      <td>285</td>\n",
       "      <td>4.5</td>\n",
       "      <td>False</td>\n",
       "    </tr>\n",
       "    <tr>\n",
       "      <th>129</th>\n",
       "      <td>WQInMCxF3EpwgvQa2vLQsg</td>\n",
       "      <td>SOHO Modern Japanese</td>\n",
       "      <td>fremont</td>\n",
       "      <td>187</td>\n",
       "      <td>4.5</td>\n",
       "      <td>False</td>\n",
       "    </tr>\n",
       "  </tbody>\n",
       "</table>\n",
       "</div>"
      ],
      "text/plain": [
       "                business_id                                  name        city   \n",
       "130  j_Tko7_HIrjx334lmI8Dtg                  Afghan Awasana Kabob     fremont  \\\n",
       "66   LZwp2yd1Abs8PDF1Wf8Ybg                             Dat Q BBQ      newark   \n",
       "5    FQnIs9ojngandeHW4UrasA                  California Soul Food      newark   \n",
       "49   vu9iWvr8SUtpzQratYasXw               Emperor Dynasty Banquet      newark   \n",
       "216  Qgyf5wWw3SHCiohkr2Xlpw                           Bundoo Khan     fremont   \n",
       "113  mog4wAikb1EnzwWSnKt-BQ                           Tamper Room     fremont   \n",
       "118  W_HLI03d4OxtcY0pTYpnNA              Five Grains Noodle House     fremont   \n",
       "354  cGTNaphwexAJkuK628XgUw  Cock n' Curry - Indian Fried Chicken  union city   \n",
       "117  UhMdgcDu6zRADR43uhyfYg                     Billy Roys Burger     fremont   \n",
       "129  WQInMCxF3EpwgvQa2vLQsg                  SOHO Modern Japanese     fremont   \n",
       "\n",
       "     review_count  rating  is_ff_chain  \n",
       "130           294     5.0        False  \n",
       "66             17     5.0        False  \n",
       "5               3     5.0        False  \n",
       "49              7     5.0        False  \n",
       "216             7     5.0        False  \n",
       "113            38     5.0        False  \n",
       "118             1     5.0        False  \n",
       "354             4     5.0        False  \n",
       "117           285     4.5        False  \n",
       "129           187     4.5        False  "
      ]
     },
     "execution_count": 14,
     "metadata": {},
     "output_type": "execute_result"
    }
   ],
   "source": [
    "trial_df.sort_values('rating', ascending=False).head(10)"
   ]
  },
  {
   "attachments": {},
   "cell_type": "markdown",
   "metadata": {},
   "source": [
    "Here, I encounter my first problem. A restaurant may have a high rating, but it may not have a lot of reviews. Thus, how do you incorporate `review_count` and `rating` together? Because clearly, a restaurant with $200$ reviews and a rating of $4.5$ should be considered more credible than a restaurant with $1$ review but a rating of $5.0$. I turned to Google to see if Yelp has revealed their rating algorithm; to no surprise, it is [proprietary](https://www.quora.com/How-does-the-rating-algorithm-of-Yelp-work). I'm going to have to create my own set of rules.\n",
    "\n",
    "To start, I want to determine a \"threshold\" number of reviews a restaurant must have to be deemed \"credible\" enough. However, this means that there might be potential sleepr restaurants that I might miss, but I the probablility of this is low and I rather not be a guinea pig. If the restaurant is actually good, I'm confident the number of reviews will increase over time, and I am more than happy to wait it out; I've already suffered for more than six years, what's another few months.\n",
    "\n",
    "So to determine that threshold, I want to see the spread of `review_count`. I implement a Python function that makes a boxplot and displays a statistical summary containing the count, mean, standard deviation, min, median, max, and $25th$ and $75th$ percentile."
   ]
  },
  {
   "cell_type": "code",
   "execution_count": 15,
   "metadata": {},
   "outputs": [],
   "source": [
    "# Helper method that visualizes the spread of a DataFrame and displays summary statistics\n",
    "# Takes in a DataFrame and the name of a column of interest\n",
    "def boxplot_and_summary(df, col):\n",
    "    # Make a boxplot of review_count\n",
    "    plt.boxplot(df[col])\n",
    "    plt.title(\"Boxplot of {}\".format(col))\n",
    "    plt.xlabel(col)\n",
    "    plt.ylabel(\"Num {}\".format(col))\n",
    "    plt.grid()\n",
    "    plt.show()\n",
    "\n",
    "    # Show summary statistics of col\n",
    "    print(\"Summary Statistics:\")\n",
    "    print(df[col].describe())"
   ]
  },
  {
   "cell_type": "code",
   "execution_count": 16,
   "metadata": {},
   "outputs": [
    {
     "data": {
      "image/png": "[encoded data removed]",
      "text/plain": [
       "<Figure size 640x480 with 1 Axes>"
      ]
     },
     "metadata": {},
     "output_type": "display_data"
    },
    {
     "name": "stdout",
     "output_type": "stream",
     "text": [
      "Summary Statistics:\n",
      "count     296.000000\n",
      "mean      411.574324\n",
      "std       506.817616\n",
      "min         1.000000\n",
      "25%        96.000000\n",
      "50%       251.000000\n",
      "75%       518.750000\n",
      "max      3698.000000\n",
      "Name: review_count, dtype: float64\n"
     ]
    }
   ],
   "source": [
    "# Call boxplot_and_summary on `trial_df``\n",
    "boxplot_and_summary(trial_df, 'review_count')"
   ]
  },
  {
   "attachments": {},
   "cell_type": "markdown",
   "metadata": {},
   "source": [
    "From looking at the boxplot, there appears to be a lot of outliers in the higher end; I do not want to use these data points to determine my threshold. Thus, I will use the [IQR](https://en.wikipedia.org/wiki/Interquartile_range) to determine my boxplot's upper whisker, which can be computed with the following formula:\n",
    "\n",
    "$$Q_3 + 1.5*IQR$$\n",
    "\n",
    "where $IQR=Q_3 - Q_1$\n",
    "\n",
    "and $Q_1$ and $Q_3$ is the $25th$ and $75th$ percentile respectively.\n",
    "\n",
    "All points above the upper whisker will not be considered in determining my personal threshold. In the following cell, I implement a Python function that calculates the upper whisker of a boxplot:"
   ]
  },
  {
   "cell_type": "code",
   "execution_count": 17,
   "metadata": {},
   "outputs": [
    {
     "name": "stdout",
     "output_type": "stream",
     "text": [
      "Upper Whisker Threshold: 1152.875\n"
     ]
    }
   ],
   "source": [
    "# Python function that computes the upper whisker of a boxplot using the data's IQR.\n",
    "# Takes in a DataFrame and the name of the column of interest\n",
    "# Returns the value of the boxplot's upper whisker.\n",
    "def compute_upper_whisker(df, col):\n",
    "    q1 = df[col].describe()['25%']\n",
    "    q3 = df[col].describe()['75%']\n",
    "    iqr = q3 - q1\n",
    "    return q3 + 1.5 * iqr\n",
    "\n",
    "# Call above function to find upper whisker\n",
    "upper_whisker = compute_upper_whisker(trial_df, 'review_count')\n",
    "print(\"Upper Whisker Threshold: {}\".format(upper_whisker))"
   ]
  },
  {
   "attachments": {},
   "cell_type": "markdown",
   "metadata": {},
   "source": [
    "There is no way to have a decimal number of reviews, so I will round down. To determine my personal threshold, I will remove all restaurants containing *more than* $1152$ reviews."
   ]
  },
  {
   "cell_type": "code",
   "execution_count": 40,
   "metadata": {},
   "outputs": [],
   "source": [
    "# Helper method that I decided to implement to give me removal stats, more\n",
    "# specifically, it will show how many tuples and proportion of tuples removed from\n",
    "# one DataFrame, prev_df, to another, curr_df.\n",
    "# Will simply print these removal stats.\n",
    "def removal_stats(prev_df, curr_df):\n",
    "    print(\"Number of tuples removed: {:6}\".format(len(prev_df) - len(curr_df)))\n",
    "    print(\"Proportion of tuples removed: {:.4f}\".format((len(prev_df) - len(curr_df)) / (len(prev_df))))\n",
    "    print(\"Remaining tuples: {:15}\".format(len(curr_df)))"
   ]
  },
  {
   "cell_type": "code",
   "execution_count": 41,
   "metadata": {},
   "outputs": [
    {
     "name": "stdout",
     "output_type": "stream",
     "text": [
      "Number of tuples removed:     20\n",
      "Proportion of tuples removed: 0.0676\n",
      "Remaining tuples:             276\n"
     ]
    }
   ],
   "source": [
    "# Create `threshold_df` by filtering through `trial_df` with `upper whisker`\n",
    "threshold_df = trial_df[trial_df['review_count'] <= upper_whisker]\n",
    "removal_stats(trial_df, threshold_df) # display removal stats"
   ]
  },
  {
   "attachments": {},
   "cell_type": "markdown",
   "metadata": {},
   "source": [
    "$20$ restaurants or roughly $6.8\\%$ of the restaurants were removed from `trial_df` to create `threshold_df`. This might be a lot, but I think it should be fine, and this is my ***personal*** threshold, so I make the rules here.\n",
    "\n",
    "Next, I take a look at the spread and summary statistics for `threshold_df`."
   ]
  },
  {
   "cell_type": "code",
   "execution_count": 42,
   "metadata": {},
   "outputs": [
    {
     "data": {
      "image/png": "[encoded data removed]",
      "text/plain": [
       "<Figure size 640x480 with 1 Axes>"
      ]
     },
     "metadata": {},
     "output_type": "display_data"
    },
    {
     "name": "stdout",
     "output_type": "stream",
     "text": [
      "Summary Statistics:\n",
      "count     276.000000\n",
      "mean      304.985507\n",
      "std       266.533068\n",
      "min         1.000000\n",
      "25%        84.750000\n",
      "50%       226.500000\n",
      "75%       443.000000\n",
      "max      1108.000000\n",
      "Name: review_count, dtype: float64\n"
     ]
    }
   ],
   "source": [
    "# Call boxplot_and_summary on `threshold_df``\n",
    "boxplot_and_summary(threshold_df, 'review_count')"
   ]
  },
  {
   "attachments": {},
   "cell_type": "markdown",
   "metadata": {},
   "source": [
    "From looking at the spread of `threshold_df`, I'm tempted to use the first quartile as my personal threshold. Before going a long with that, I want to see the distribution of `review_count`."
   ]
  },
  {
   "cell_type": "code",
   "execution_count": 49,
   "metadata": {},
   "outputs": [],
   "source": [
    "# Fucntion that makes a histogram of `col` in `df`\n",
    "# Takes in a Dataframe, `df`, a column of interest, `col`, and a optional parameter `r_bins`\n",
    "# to specifiy a range for the bins\n",
    "# Displays a histogram\n",
    "def plot_distribution(df, col, r_bins=0):\n",
    "    # Needed in case there is an r_bins argument\n",
    "    if (r_bins==0):\n",
    "        plt.hist(df[col])\n",
    "    else:\n",
    "        plt.hist(df[col], bins=r_bins)\n",
    "    \n",
    "    plt.title('Distribution of {} of Restaurants'.format(col))\n",
    "    plt.ylabel('Num restaurant with {}'.format(col))\n",
    "    plt.xlabel(col)\n",
    "    plt.grid()\n",
    "    plt.show()"
   ]
  },
  {
   "cell_type": "code",
   "execution_count": 47,
   "metadata": {},
   "outputs": [
    {
     "data": {
      "image/png": "[encoded data removed]",
      "text/plain": [
       "<Figure size 640x480 with 1 Axes>"
      ]
     },
     "metadata": {},
     "output_type": "display_data"
    }
   ],
   "source": [
    "# Call plot_distribution on `threshold_df` with column `review_count`\n",
    "plot_distribution(threshold_df, 'review_count', range(0, 1120, 20))"
   ]
  },
  {
   "attachments": {},
   "cell_type": "markdown",
   "metadata": {},
   "source": [
    "There seems to be quite a number of restaurants that are below $Q_1 = 84.75$. Nevertheless, as time passes, if those restaurants are ~~really good~~ *really edible*, then i'm sure they will pass that that $Q_1$ cut-off point in no time. It is also the case that my dad and I are only two people limited to the physical constraints of roughly $2-3$ meals per day, so I don't think there is an issue if we start with a smaller list.\n",
    "\n",
    "With that said, I will move forward with a personal threshold of $84.75$, rounded up to $85$. Any restaurants with less than $85$ reviews in the Bay Tri-City Area will not be considered for trial. With this new filter, let's take a look what our modified `trial_df` looks like."
   ]
  },
  {
   "cell_type": "code",
   "execution_count": 44,
   "metadata": {},
   "outputs": [
    {
     "name": "stdout",
     "output_type": "stream",
     "text": [
      "Number of tuples removed:     69\n",
      "Proportion of tuples removed: 0.2331\n",
      "Remaining tuples:             227\n"
     ]
    }
   ],
   "source": [
    "# Instantiate personal threshold from results computed above\n",
    "personal_threshold = 85\n",
    "\n",
    "# Create `trial_threshold_df` by filtering through `trial_df` with `personal_threshold`.`\n",
    "trial_threshold_df = trial_df[trial_df['review_count'] >= personal_threshold]\n",
    "removal_stats(trial_df, trial_threshold_df)"
   ]
  },
  {
   "attachments": {},
   "cell_type": "markdown",
   "metadata": {},
   "source": [
    "With $69$ (nice) restaurants removed from the list with my personal `review_count` threshold, I'm left with $227$ restaurants; seems like a good start. Now, it is finally time to use the `rating` feature. Just like how I determined my personal `review_count` threshold, I will use a similar process for `rating`. So to start, let's see the spread, summary statistics, and distribution."
   ]
  },
  {
   "cell_type": "code",
   "execution_count": 50,
   "metadata": {},
   "outputs": [
    {
     "data": {
      "image/png": "[encoded data removed]",
      "text/plain": [
       "<Figure size 640x480 with 1 Axes>"
      ]
     },
     "metadata": {},
     "output_type": "display_data"
    },
    {
     "name": "stdout",
     "output_type": "stream",
     "text": [
      "Summary Statistics:\n",
      "count    227.000000\n",
      "mean       3.863436\n",
      "std        0.520664\n",
      "min        2.000000\n",
      "25%        3.500000\n",
      "50%        4.000000\n",
      "75%        4.000000\n",
      "max        5.000000\n",
      "Name: rating, dtype: float64\n"
     ]
    },
    {
     "data": {
      "image/png": "[encoded data removed]",
      "text/plain": [
       "<Figure size 640x480 with 1 Axes>"
      ]
     },
     "metadata": {},
     "output_type": "display_data"
    }
   ],
   "source": [
    "# Call previously implemented helper methods\n",
    "boxplot_and_summary(trial_threshold_df, 'rating') # for spread and summary statistics\n",
    "plot_distribution(trial_threshold_df, 'rating')\n"
   ]
  },
  {
   "attachments": {},
   "cell_type": "markdown",
   "metadata": {},
   "source": [
    "Looking at these statistics, my gut feeling is telling me to set a cutoff point at $4.0$, the rounded mean. But to include $4$ or not to include $4$ is now the main dilemma, as the distribution seems to be unimodal **AT** $4$, meaning if I do include $4$, a lot of restaurants will be included, and not doing so with eliminate a lot of them.\n",
    "\n",
    "As I pondered about this for quite a while, I came to realization. ***It doesn't matter***. All these thresholds are made up ***BY ME***, and they can always be tweaked in the future. I'm not going to include $4$. Let's apply that filter."
   ]
  },
  {
   "cell_type": "code",
   "execution_count": 55,
   "metadata": {},
   "outputs": [
    {
     "name": "stdout",
     "output_type": "stream",
     "text": [
      "Number of tuples removed:    184\n",
      "Proportion of tuples removed: 0.8106\n",
      "Remaining tuples:              43\n"
     ]
    }
   ],
   "source": [
    "# Apply filter on `trial_threshold_df` to create `final_trial_df``\n",
    "final_trial_df = trial_threshold_df[trial_threshold_df['rating'] > 4]\n",
    "removal_stats(trial_threshold_df, final_trial_df) # print removal stats"
   ]
  },
  {
   "attachments": {},
   "cell_type": "markdown",
   "metadata": {},
   "source": [
    "With $184$ restaurants removed, or rougly $81\\%$ of the original DataFrame, I am left with $43$ restaurants.\n",
    "\n",
    "Yeah, I can work with that.\n",
    "\n",
    "Assuming we only eat out for dinner, so one restaurant each day, it'll take my dad and me about a month and half to test these restaurants. Not to mention, some of these restaurants we have already been to.\n",
    "\n",
    "Let's take a look at the final DataFrame with the relevant columns projected, sorted by highest `rating`."
   ]
  },
  {
   "cell_type": "code",
   "execution_count": 57,
   "metadata": {},
   "outputs": [
    {
     "data": {
      "text/html": [
       "<div>\n",
       "<style scoped>\n",
       "    .dataframe tbody tr th:only-of-type {\n",
       "        vertical-align: middle;\n",
       "    }\n",
       "\n",
       "    .dataframe tbody tr th {\n",
       "        vertical-align: top;\n",
       "    }\n",
       "\n",
       "    .dataframe thead th {\n",
       "        text-align: right;\n",
       "    }\n",
       "</style>\n",
       "<table border=\"1\" class=\"dataframe\">\n",
       "  <thead>\n",
       "    <tr style=\"text-align: right;\">\n",
       "      <th></th>\n",
       "      <th>name</th>\n",
       "      <th>review_count</th>\n",
       "      <th>rating</th>\n",
       "    </tr>\n",
       "  </thead>\n",
       "  <tbody>\n",
       "    <tr>\n",
       "      <th>130</th>\n",
       "      <td>Afghan Awasana Kabob</td>\n",
       "      <td>294</td>\n",
       "      <td>5.0</td>\n",
       "    </tr>\n",
       "    <tr>\n",
       "      <th>1</th>\n",
       "      <td>四姐 Pan Fried Dumplings</td>\n",
       "      <td>613</td>\n",
       "      <td>4.5</td>\n",
       "    </tr>\n",
       "    <tr>\n",
       "      <th>165</th>\n",
       "      <td>Momo &amp; Kebab</td>\n",
       "      <td>416</td>\n",
       "      <td>4.5</td>\n",
       "    </tr>\n",
       "    <tr>\n",
       "      <th>169</th>\n",
       "      <td>Haleluya Ethiopian Gourmet</td>\n",
       "      <td>222</td>\n",
       "      <td>4.5</td>\n",
       "    </tr>\n",
       "    <tr>\n",
       "      <th>173</th>\n",
       "      <td>Kyain Kyain</td>\n",
       "      <td>413</td>\n",
       "      <td>4.5</td>\n",
       "    </tr>\n",
       "    <tr>\n",
       "      <th>179</th>\n",
       "      <td>Chicken Meets Rice</td>\n",
       "      <td>96</td>\n",
       "      <td>4.5</td>\n",
       "    </tr>\n",
       "    <tr>\n",
       "      <th>180</th>\n",
       "      <td>RāwASF - Fremont</td>\n",
       "      <td>191</td>\n",
       "      <td>4.5</td>\n",
       "    </tr>\n",
       "    <tr>\n",
       "      <th>182</th>\n",
       "      <td>Keeku da Dhaba</td>\n",
       "      <td>198</td>\n",
       "      <td>4.5</td>\n",
       "    </tr>\n",
       "    <tr>\n",
       "      <th>186</th>\n",
       "      <td>R HaanThai</td>\n",
       "      <td>111</td>\n",
       "      <td>4.5</td>\n",
       "    </tr>\n",
       "    <tr>\n",
       "      <th>196</th>\n",
       "      <td>Idly Express Fremont</td>\n",
       "      <td>106</td>\n",
       "      <td>4.5</td>\n",
       "    </tr>\n",
       "    <tr>\n",
       "      <th>211</th>\n",
       "      <td>The Everest Momo</td>\n",
       "      <td>104</td>\n",
       "      <td>4.5</td>\n",
       "    </tr>\n",
       "    <tr>\n",
       "      <th>213</th>\n",
       "      <td>Zhangfei Hot Pot</td>\n",
       "      <td>368</td>\n",
       "      <td>4.5</td>\n",
       "    </tr>\n",
       "    <tr>\n",
       "      <th>222</th>\n",
       "      <td>iniBurger</td>\n",
       "      <td>428</td>\n",
       "      <td>4.5</td>\n",
       "    </tr>\n",
       "    <tr>\n",
       "      <th>226</th>\n",
       "      <td>Datang Kitchen</td>\n",
       "      <td>135</td>\n",
       "      <td>4.5</td>\n",
       "    </tr>\n",
       "    <tr>\n",
       "      <th>231</th>\n",
       "      <td>Kakuna Sushi</td>\n",
       "      <td>379</td>\n",
       "      <td>4.5</td>\n",
       "    </tr>\n",
       "    <tr>\n",
       "      <th>233</th>\n",
       "      <td>East Bay Cafe Depot</td>\n",
       "      <td>154</td>\n",
       "      <td>4.5</td>\n",
       "    </tr>\n",
       "    <tr>\n",
       "      <th>242</th>\n",
       "      <td>Mirchi Meat &amp; Deli</td>\n",
       "      <td>154</td>\n",
       "      <td>4.5</td>\n",
       "    </tr>\n",
       "    <tr>\n",
       "      <th>319</th>\n",
       "      <td>Tang's Haus</td>\n",
       "      <td>187</td>\n",
       "      <td>4.5</td>\n",
       "    </tr>\n",
       "    <tr>\n",
       "      <th>323</th>\n",
       "      <td>Lotus Cafe</td>\n",
       "      <td>113</td>\n",
       "      <td>4.5</td>\n",
       "    </tr>\n",
       "    <tr>\n",
       "      <th>334</th>\n",
       "      <td>Greens N Grills</td>\n",
       "      <td>217</td>\n",
       "      <td>4.5</td>\n",
       "    </tr>\n",
       "    <tr>\n",
       "      <th>366</th>\n",
       "      <td>Hippies Brew - Temp. CLOSED</td>\n",
       "      <td>100</td>\n",
       "      <td>4.5</td>\n",
       "    </tr>\n",
       "    <tr>\n",
       "      <th>167</th>\n",
       "      <td>Haidilao Hot Pot - Fremont</td>\n",
       "      <td>541</td>\n",
       "      <td>4.5</td>\n",
       "    </tr>\n",
       "    <tr>\n",
       "      <th>162</th>\n",
       "      <td>One Piece Lamian</td>\n",
       "      <td>207</td>\n",
       "      <td>4.5</td>\n",
       "    </tr>\n",
       "    <tr>\n",
       "      <th>14</th>\n",
       "      <td>Tao‘s Fresh</td>\n",
       "      <td>102</td>\n",
       "      <td>4.5</td>\n",
       "    </tr>\n",
       "    <tr>\n",
       "      <th>161</th>\n",
       "      <td>Joyful Dim Sum Bistro</td>\n",
       "      <td>156</td>\n",
       "      <td>4.5</td>\n",
       "    </tr>\n",
       "    <tr>\n",
       "      <th>16</th>\n",
       "      <td>Bear Bitez</td>\n",
       "      <td>587</td>\n",
       "      <td>4.5</td>\n",
       "    </tr>\n",
       "    <tr>\n",
       "      <th>24</th>\n",
       "      <td>Cal Eats Fresh Mexican Grill</td>\n",
       "      <td>583</td>\n",
       "      <td>4.5</td>\n",
       "    </tr>\n",
       "    <tr>\n",
       "      <th>30</th>\n",
       "      <td>Indigo Burger</td>\n",
       "      <td>324</td>\n",
       "      <td>4.5</td>\n",
       "    </tr>\n",
       "    <tr>\n",
       "      <th>41</th>\n",
       "      <td>Himalayan Chef Kitchen</td>\n",
       "      <td>86</td>\n",
       "      <td>4.5</td>\n",
       "    </tr>\n",
       "    <tr>\n",
       "      <th>46</th>\n",
       "      <td>Hummus Republic</td>\n",
       "      <td>104</td>\n",
       "      <td>4.5</td>\n",
       "    </tr>\n",
       "    <tr>\n",
       "      <th>114</th>\n",
       "      <td>Sizzling Lunch</td>\n",
       "      <td>411</td>\n",
       "      <td>4.5</td>\n",
       "    </tr>\n",
       "    <tr>\n",
       "      <th>115</th>\n",
       "      <td>Ambrose Butchery</td>\n",
       "      <td>241</td>\n",
       "      <td>4.5</td>\n",
       "    </tr>\n",
       "    <tr>\n",
       "      <th>116</th>\n",
       "      <td>Always Cool BBQ</td>\n",
       "      <td>153</td>\n",
       "      <td>4.5</td>\n",
       "    </tr>\n",
       "    <tr>\n",
       "      <th>117</th>\n",
       "      <td>Billy Roys Burger</td>\n",
       "      <td>285</td>\n",
       "      <td>4.5</td>\n",
       "    </tr>\n",
       "    <tr>\n",
       "      <th>119</th>\n",
       "      <td>Kiya Sushi</td>\n",
       "      <td>175</td>\n",
       "      <td>4.5</td>\n",
       "    </tr>\n",
       "    <tr>\n",
       "      <th>122</th>\n",
       "      <td>Sweet Garden</td>\n",
       "      <td>499</td>\n",
       "      <td>4.5</td>\n",
       "    </tr>\n",
       "    <tr>\n",
       "      <th>129</th>\n",
       "      <td>SOHO Modern Japanese</td>\n",
       "      <td>187</td>\n",
       "      <td>4.5</td>\n",
       "    </tr>\n",
       "    <tr>\n",
       "      <th>135</th>\n",
       "      <td>Dish N Dash - Fremont</td>\n",
       "      <td>900</td>\n",
       "      <td>4.5</td>\n",
       "    </tr>\n",
       "    <tr>\n",
       "      <th>142</th>\n",
       "      <td>Amami Sushi Fremont</td>\n",
       "      <td>85</td>\n",
       "      <td>4.5</td>\n",
       "    </tr>\n",
       "    <tr>\n",
       "      <th>147</th>\n",
       "      <td>Rice Junky</td>\n",
       "      <td>338</td>\n",
       "      <td>4.5</td>\n",
       "    </tr>\n",
       "    <tr>\n",
       "      <th>151</th>\n",
       "      <td>MJ Sushi</td>\n",
       "      <td>413</td>\n",
       "      <td>4.5</td>\n",
       "    </tr>\n",
       "    <tr>\n",
       "      <th>156</th>\n",
       "      <td>Sushi Ken</td>\n",
       "      <td>167</td>\n",
       "      <td>4.5</td>\n",
       "    </tr>\n",
       "    <tr>\n",
       "      <th>387</th>\n",
       "      <td>Amy's Donuts</td>\n",
       "      <td>215</td>\n",
       "      <td>4.5</td>\n",
       "    </tr>\n",
       "  </tbody>\n",
       "</table>\n",
       "</div>"
      ],
      "text/plain": [
       "                             name  review_count  rating\n",
       "130          Afghan Awasana Kabob           294     5.0\n",
       "1          四姐 Pan Fried Dumplings           613     4.5\n",
       "165                  Momo & Kebab           416     4.5\n",
       "169    Haleluya Ethiopian Gourmet           222     4.5\n",
       "173                   Kyain Kyain           413     4.5\n",
       "179            Chicken Meets Rice            96     4.5\n",
       "180              RāwASF - Fremont           191     4.5\n",
       "182                Keeku da Dhaba           198     4.5\n",
       "186                    R HaanThai           111     4.5\n",
       "196          Idly Express Fremont           106     4.5\n",
       "211              The Everest Momo           104     4.5\n",
       "213              Zhangfei Hot Pot           368     4.5\n",
       "222                     iniBurger           428     4.5\n",
       "226                Datang Kitchen           135     4.5\n",
       "231                  Kakuna Sushi           379     4.5\n",
       "233           East Bay Cafe Depot           154     4.5\n",
       "242            Mirchi Meat & Deli           154     4.5\n",
       "319                   Tang's Haus           187     4.5\n",
       "323                    Lotus Cafe           113     4.5\n",
       "334               Greens N Grills           217     4.5\n",
       "366   Hippies Brew - Temp. CLOSED           100     4.5\n",
       "167    Haidilao Hot Pot - Fremont           541     4.5\n",
       "162              One Piece Lamian           207     4.5\n",
       "14                    Tao‘s Fresh           102     4.5\n",
       "161         Joyful Dim Sum Bistro           156     4.5\n",
       "16                     Bear Bitez           587     4.5\n",
       "24   Cal Eats Fresh Mexican Grill           583     4.5\n",
       "30                  Indigo Burger           324     4.5\n",
       "41         Himalayan Chef Kitchen            86     4.5\n",
       "46                Hummus Republic           104     4.5\n",
       "114                Sizzling Lunch           411     4.5\n",
       "115              Ambrose Butchery           241     4.5\n",
       "116               Always Cool BBQ           153     4.5\n",
       "117             Billy Roys Burger           285     4.5\n",
       "119                    Kiya Sushi           175     4.5\n",
       "122                  Sweet Garden           499     4.5\n",
       "129          SOHO Modern Japanese           187     4.5\n",
       "135         Dish N Dash - Fremont           900     4.5\n",
       "142           Amami Sushi Fremont            85     4.5\n",
       "147                    Rice Junky           338     4.5\n",
       "151                      MJ Sushi           413     4.5\n",
       "156                     Sushi Ken           167     4.5\n",
       "387                  Amy's Donuts           215     4.5"
      ]
     },
     "execution_count": 57,
     "metadata": {},
     "output_type": "execute_result"
    }
   ],
   "source": [
    "final_trial_df[['name', 'review_count', 'rating']].sort_values('rating', ascending=False)"
   ]
  },
  {
   "attachments": {},
   "cell_type": "markdown",
   "metadata": {},
   "source": [
    "And I see a lot of middle easter cuisines... oh boy. Guess it's time to experiment.\n",
    "\n",
    "I'll report back in a month, maybe two months at most. Until then."
   ]
  },
  {
   "cell_type": "code",
   "execution_count": null,
   "metadata": {},
   "outputs": [],
   "source": []
  }
 ],
 "metadata": {
  "kernelspec": {
   "display_name": "Python 3",
   "language": "python",
   "name": "python3"
  },
  "language_info": {
   "codemirror_mode": {
    "name": "ipython",
    "version": 3
   },
   "file_extension": ".py",
   "mimetype": "text/x-python",
   "name": "python",
   "nbconvert_exporter": "python",
   "pygments_lexer": "ipython3",
   "version": "3.11.3"
  },
  "orig_nbformat": 4
 },
 "nbformat": 4,
 "nbformat_minor": 2
}
